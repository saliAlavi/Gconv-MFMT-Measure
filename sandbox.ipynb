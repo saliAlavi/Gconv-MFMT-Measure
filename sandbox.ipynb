{
 "cells": [
  {
   "cell_type": "code",
   "execution_count": 1,
   "id": "c24f962c",
   "metadata": {},
   "outputs": [
    {
     "name": "stderr",
     "output_type": "stream",
     "text": [
      "/home/salavib/Projects/env_cv/lib/python3.6/site-packages/tensorflow/python/framework/dtypes.py:516: FutureWarning: Passing (type, 1) or '1type' as a synonym of type is deprecated; in a future version of numpy, it will be understood as (type, (1,)) / '(1,)type'.\n",
      "  _np_qint8 = np.dtype([(\"qint8\", np.int8, 1)])\n",
      "/home/salavib/Projects/env_cv/lib/python3.6/site-packages/tensorflow/python/framework/dtypes.py:517: FutureWarning: Passing (type, 1) or '1type' as a synonym of type is deprecated; in a future version of numpy, it will be understood as (type, (1,)) / '(1,)type'.\n",
      "  _np_quint8 = np.dtype([(\"quint8\", np.uint8, 1)])\n",
      "/home/salavib/Projects/env_cv/lib/python3.6/site-packages/tensorflow/python/framework/dtypes.py:518: FutureWarning: Passing (type, 1) or '1type' as a synonym of type is deprecated; in a future version of numpy, it will be understood as (type, (1,)) / '(1,)type'.\n",
      "  _np_qint16 = np.dtype([(\"qint16\", np.int16, 1)])\n",
      "/home/salavib/Projects/env_cv/lib/python3.6/site-packages/tensorflow/python/framework/dtypes.py:519: FutureWarning: Passing (type, 1) or '1type' as a synonym of type is deprecated; in a future version of numpy, it will be understood as (type, (1,)) / '(1,)type'.\n",
      "  _np_quint16 = np.dtype([(\"quint16\", np.uint16, 1)])\n",
      "/home/salavib/Projects/env_cv/lib/python3.6/site-packages/tensorflow/python/framework/dtypes.py:520: FutureWarning: Passing (type, 1) or '1type' as a synonym of type is deprecated; in a future version of numpy, it will be understood as (type, (1,)) / '(1,)type'.\n",
      "  _np_qint32 = np.dtype([(\"qint32\", np.int32, 1)])\n",
      "/home/salavib/Projects/env_cv/lib/python3.6/site-packages/tensorflow/python/framework/dtypes.py:525: FutureWarning: Passing (type, 1) or '1type' as a synonym of type is deprecated; in a future version of numpy, it will be understood as (type, (1,)) / '(1,)type'.\n",
      "  np_resource = np.dtype([(\"resource\", np.ubyte, 1)])\n",
      "/home/salavib/Projects/env_cv/lib/python3.6/site-packages/tensorboard/compat/tensorflow_stub/dtypes.py:541: FutureWarning: Passing (type, 1) or '1type' as a synonym of type is deprecated; in a future version of numpy, it will be understood as (type, (1,)) / '(1,)type'.\n",
      "  _np_qint8 = np.dtype([(\"qint8\", np.int8, 1)])\n",
      "/home/salavib/Projects/env_cv/lib/python3.6/site-packages/tensorboard/compat/tensorflow_stub/dtypes.py:542: FutureWarning: Passing (type, 1) or '1type' as a synonym of type is deprecated; in a future version of numpy, it will be understood as (type, (1,)) / '(1,)type'.\n",
      "  _np_quint8 = np.dtype([(\"quint8\", np.uint8, 1)])\n",
      "/home/salavib/Projects/env_cv/lib/python3.6/site-packages/tensorboard/compat/tensorflow_stub/dtypes.py:543: FutureWarning: Passing (type, 1) or '1type' as a synonym of type is deprecated; in a future version of numpy, it will be understood as (type, (1,)) / '(1,)type'.\n",
      "  _np_qint16 = np.dtype([(\"qint16\", np.int16, 1)])\n",
      "/home/salavib/Projects/env_cv/lib/python3.6/site-packages/tensorboard/compat/tensorflow_stub/dtypes.py:544: FutureWarning: Passing (type, 1) or '1type' as a synonym of type is deprecated; in a future version of numpy, it will be understood as (type, (1,)) / '(1,)type'.\n",
      "  _np_quint16 = np.dtype([(\"quint16\", np.uint16, 1)])\n",
      "/home/salavib/Projects/env_cv/lib/python3.6/site-packages/tensorboard/compat/tensorflow_stub/dtypes.py:545: FutureWarning: Passing (type, 1) or '1type' as a synonym of type is deprecated; in a future version of numpy, it will be understood as (type, (1,)) / '(1,)type'.\n",
      "  _np_qint32 = np.dtype([(\"qint32\", np.int32, 1)])\n",
      "/home/salavib/Projects/env_cv/lib/python3.6/site-packages/tensorboard/compat/tensorflow_stub/dtypes.py:550: FutureWarning: Passing (type, 1) or '1type' as a synonym of type is deprecated; in a future version of numpy, it will be understood as (type, (1,)) / '(1,)type'.\n",
      "  np_resource = np.dtype([(\"resource\", np.ubyte, 1)])\n"
     ]
    }
   ],
   "source": [
    "import torch\n",
    "from torch.autograd import Variable\n",
    "from groupy.gconv.pytorch_gconv import P4ConvZ2, P4ConvP4, P4MConvZ2, P4MConvP4M\n",
    "import torchvision\n",
    "from torchvision.transforms import ToTensor\n",
    "from torchvision import datasets, models, transforms\n",
    "import numpy as np\n",
    "from torch import nn\n",
    "import torch.optim as optim\n",
    "from torch.optim import lr_scheduler\n",
    "from torch import nn\n",
    "from torchsummary import summary\n",
    "import time\n",
    "import copy\n",
    "import matplotlib.pyplot as plt\n",
    "import os\n",
    "\n",
    "from mftma.manifold_analysis_correlation import manifold_analysis_corr\n",
    "from mftma.utils.make_manifold_data import make_manifold_data\n",
    "from mftma.utils.activation_extractor import extractor\n",
    "from mftma.utils.analyze_pytorch import analyze"
   ]
  },
  {
   "cell_type": "code",
   "execution_count": 2,
   "id": "dadb3d6c",
   "metadata": {},
   "outputs": [],
   "source": [
    "data_transformation = {\n",
    "    'train': transforms.Compose([\n",
    "        transforms.RandomHorizontalFlip(0.5),\n",
    "        transforms.RandomRotation([-10,10]),\n",
    "        transforms.ToTensor(),\n",
    "        transforms.Normalize(0,1)\n",
    "    ]),\n",
    "    'val':\n",
    "    ToTensor()\n",
    "}\n",
    "train_ds = torchvision.datasets.FashionMNIST('dataset',download=True,train=True,\n",
    "                                             transform=data_transformation['train'])\n",
    "test_ds = torchvision.datasets.FashionMNIST('dataset',download=True,train=False,\n",
    "                                            transform=data_transformation['val'])"
   ]
  },
  {
   "cell_type": "code",
   "execution_count": 3,
   "id": "4cc2458b",
   "metadata": {},
   "outputs": [],
   "source": [
    "# os.environ[\"CUDA_DEVICE_ORDER\"] = \"PCI_BUS_ID\"\n",
    "os.environ['CUDA_VISIBLE_DEVICES']='2,3'\n",
    "device = torch.device(\"cuda\" if torch.cuda.is_available() else \"cpu\")"
   ]
  },
  {
   "cell_type": "code",
   "execution_count": 4,
   "id": "6397e4cb",
   "metadata": {},
   "outputs": [],
   "source": [
    "img_datasets = {'train':train_ds, 'val':test_ds}\n",
    "dataset_sizes = {x: len(img_datasets[x]) for x in ['train', 'val']}"
   ]
  },
  {
   "cell_type": "code",
   "execution_count": 5,
   "id": "90a69022",
   "metadata": {},
   "outputs": [],
   "source": [
    "class NeuralNetwork(nn.Module):\n",
    "    def __init__(self):\n",
    "        super(NeuralNetwork, self).__init__()\n",
    "        self.conv2d = nn.Conv2d(1, 64, kernel_size=(7, 7), stride=(2, 2), padding=(3, 3), bias=False)\n",
    "        self.p4convz2 = P4ConvZ2(in_channels=1, out_channels=64, kernel_size=7, stride=2, padding=3)\n",
    "        self.linear = nn.Linear(128, 10)\n",
    "        self.linear_relu_stack = nn.Sequential(\n",
    "            nn.Linear(14*14*320, 1024),\n",
    "            nn.ReLU(),\n",
    "            nn.Linear(1024, 512),\n",
    "            nn.ReLU(),\n",
    "            nn.Linear(512, 10),\n",
    "        )\n",
    "\n",
    "    def forward(self, x):\n",
    "        x1 = self.conv2d(x)\n",
    "        x2 = self.p4convz2(x)\n",
    "        x2 = x2.view(x2.shape[0],x2.shape[1]*x2.shape[2], x2.shape[3],x2.shape[4])\n",
    "#         print(x2.shape)\n",
    "#         print(x1.shape)\n",
    "        x = torch.cat((x1,x2),1)\n",
    "#         print(x.shape)\n",
    "        x = torch.flatten(x,1)\n",
    "#         print(x.shape)\n",
    "        logits = self.linear_relu_stack(x)\n",
    "        return logits"
   ]
  },
  {
   "cell_type": "code",
   "execution_count": 6,
   "id": "496746cc",
   "metadata": {},
   "outputs": [],
   "source": [
    "class NeuralNetwork(nn.Module):\n",
    "    def __init__(self):\n",
    "        super(NeuralNetwork, self).__init__()\n",
    "        channel_size = [64,32,16,8,16,32,64]\n",
    "        strides = [1,1,2,1,1,1,1]\n",
    "        kernels = [7,7,7,7,7,7,7]\n",
    "        self.conv2d = nn.ModuleList()\n",
    "        self.p4convz2 = nn.ModuleList()\n",
    "        self.p4mconvz2 = nn.ModuleList()\n",
    "        self.n_layers = len(channel_size)    \n",
    "        \n",
    "        for layer in range(len(channel_size)):\n",
    "            oc = channel_size[layer]\n",
    "            s = strides[layer]\n",
    "            k = kernels[layer]\n",
    "            p = int(k//2)\n",
    "            if layer == 0:\n",
    "                self.conv2d.extend([nn.Conv2d(1, oc, kernel_size=(k, k), stride=(s, s), padding=(p, p), bias=False)]) \n",
    "                self.p4convz2.extend([P4ConvZ2(in_channels=1, out_channels=oc, kernel_size=k, stride=s, padding=p)])\n",
    "                self.p4mconvz2.extend([P4MConvZ2(in_channels=1, out_channels=oc, kernel_size=k, stride=s, padding=p)])\n",
    "            else:\n",
    "                ic = channel_size[layer-1]*13\n",
    "                self.conv2d.extend([nn.Conv2d(ic, oc, kernel_size=(k, k), stride=(s, s), padding=(p, p), bias=False)])\n",
    "                self.p4convz2.extend([P4ConvZ2(in_channels=ic, out_channels=oc, kernel_size=k, stride=s, padding=p)])\n",
    "                self.p4mconvz2.extend([P4MConvZ2(in_channels=ic, out_channels=oc, kernel_size=k, stride=s, padding=p)])\n",
    "                \n",
    "                \n",
    "        self.relu = nn.ReLU()\n",
    "        \n",
    "        self.linear_relu_stack = nn.Sequential(\n",
    "            nn.Linear(14*14*channel_size[-1]*13, 128),\n",
    "            nn.ReLU(),\n",
    "            nn.Linear(128, 64),\n",
    "            nn.ReLU(),\n",
    "            nn.Linear(64, 10),\n",
    "            nn.Softmax(dim=1)\n",
    "        )\n",
    "\n",
    "    def forward(self, x):\n",
    "        \n",
    "        for layer in range(self.n_layers):\n",
    "            x1 = self.conv2d[layer](x)\n",
    "            x2 = self.p4convz2[layer](x)\n",
    "            x3= self.p4mconvz2[layer](x)\n",
    "            x2 = x2.view(x2.shape[0],x2.shape[1]*x2.shape[2], x2.shape[3],x2.shape[4])\n",
    "            x3 = x3.view(x3.shape[0],x3.shape[1]*x3.shape[2], x3.shape[3],x3.shape[4])\n",
    "            x = torch.cat((x1,x2,x3),1)\n",
    "            x = self.relu(x)\n",
    "\n",
    "        x = torch.flatten(x,1)\n",
    "        logits = self.linear_relu_stack(x)\n",
    "        return logits"
   ]
  },
  {
   "cell_type": "code",
   "execution_count": 7,
   "id": "0855b858",
   "metadata": {},
   "outputs": [],
   "source": [
    "model = NeuralNetwork()\n",
    "# summary(model, (1,28,28))"
   ]
  },
  {
   "cell_type": "code",
   "execution_count": 8,
   "id": "c60c377a",
   "metadata": {},
   "outputs": [],
   "source": [
    "model = nn.DataParallel(model, device_ids=[0,1])\n",
    "model = model.to(device)"
   ]
  },
  {
   "cell_type": "code",
   "execution_count": 9,
   "id": "4ce4707e",
   "metadata": {},
   "outputs": [
    {
     "data": {
      "text/plain": [
       "0"
      ]
     },
     "execution_count": 9,
     "metadata": {},
     "output_type": "execute_result"
    }
   ],
   "source": [
    "torch.cuda.current_device()"
   ]
  },
  {
   "cell_type": "code",
   "execution_count": 10,
   "id": "ac21e200",
   "metadata": {},
   "outputs": [],
   "source": [
    "dataloaders = {x: torch.utils.data.DataLoader(img_datasets[x], batch_size=200, shuffle=True, num_workers=4) for x in ['train','val']}"
   ]
  },
  {
   "cell_type": "code",
   "execution_count": 11,
   "id": "6c6b264a",
   "metadata": {},
   "outputs": [],
   "source": [
    "criterion = nn.CrossEntropyLoss()\n",
    "\n",
    "# Observe that all parameters are being optimized\n",
    "optimizer_ft = optim.Adam(model.parameters(), lr=0.001)#, momentum=0.9)\n",
    "\n",
    "# Decay LR by a factor of 0.1 every 7 epochs\n",
    "exp_lr_scheduler = lr_scheduler.StepLR(optimizer_ft, step_size=7, gamma=0.1)\n",
    "\n",
    "scheduler =exp_lr_scheduler\n",
    "optimizer=optimizer_ft"
   ]
  },
  {
   "cell_type": "code",
   "execution_count": null,
   "id": "1fcf07cd",
   "metadata": {},
   "outputs": [
    {
     "name": "stdout",
     "output_type": "stream",
     "text": [
      "Epoch 0/29\n",
      "----------\n"
     ]
    }
   ],
   "source": [
    "num_epochs=30\n",
    "\n",
    "since = time.time()\n",
    "\n",
    "best_model_wts = copy.deepcopy(model.state_dict())\n",
    "best_acc = 0.0\n",
    "losses = []\n",
    "for epoch in range(num_epochs):\n",
    "    print(f'Epoch {epoch}/{num_epochs - 1}')\n",
    "    print('-' * 10)\n",
    "\n",
    "    # Each epoch has a training and validation phase\n",
    "    for phase in ['train', 'val']:\n",
    "        if phase == 'train':\n",
    "            model.train()  # Set model to training mode\n",
    "        else:\n",
    "            model.eval()   # Set model to evaluate mode\n",
    "\n",
    "        running_loss = 0.0\n",
    "        running_corrects = 0\n",
    "\n",
    "        # Iterate over data.\n",
    "        for inputs, labels in dataloaders[phase]:\n",
    "            inputs = inputs.to(device)\n",
    "            labels = labels.to(device)\n",
    "\n",
    "            # zero the parameter gradients\n",
    "            optimizer.zero_grad()\n",
    "\n",
    "            # forward\n",
    "            # track history if only in train\n",
    "            with torch.set_grad_enabled(phase == 'train'):\n",
    "                outputs = model(inputs)\n",
    "                _, preds = torch.max(outputs, 1)\n",
    "                loss = criterion(outputs, labels)\n",
    "                losses.append(loss)\n",
    "                # backward + optimize only if in training phase\n",
    "                if phase == 'train':\n",
    "                    loss.backward()\n",
    "                    optimizer.step()\n",
    "\n",
    "            # statistics\n",
    "            running_loss += loss.item() * inputs.size(0)\n",
    "            running_corrects += torch.sum(preds == labels.data)\n",
    "        if phase == 'train':\n",
    "            pass\n",
    "#             scheduler.step()\n",
    "\n",
    "        epoch_loss = running_loss / dataset_sizes[phase]\n",
    "        epoch_acc = running_corrects.double() / dataset_sizes[phase]\n",
    "\n",
    "        print(f'{phase} Loss: {epoch_loss:.4f} Acc: {epoch_acc:.4f}')\n",
    "\n",
    "        # deep copy the model\n",
    "        if phase == 'val' and epoch_acc > best_acc:\n",
    "            best_acc = epoch_acc\n",
    "            best_model_wts = copy.deepcopy(model.state_dict())\n",
    "\n",
    "    print()\n",
    "\n",
    "time_elapsed = time.time() - since\n",
    "print(f'Training complete in {time_elapsed // 60:.0f}m {time_elapsed % 60:.0f}s')\n",
    "print(f'Best val Acc: {best_acc:4f}')\n",
    "\n",
    "# load best model weights\n",
    "model.load_state_dict(best_model_wts)"
   ]
  },
  {
   "cell_type": "code",
   "execution_count": null,
   "id": "1e7fb1af",
   "metadata": {},
   "outputs": [],
   "source": [
    "torch.save(model.state_dict(), 'temp/model_g_2')"
   ]
  },
  {
   "cell_type": "code",
   "execution_count": null,
   "id": "5a8936a6",
   "metadata": {},
   "outputs": [],
   "source": [
    "import numpy as np\n",
    "\n",
    "losses_ar = np.asarray([x.cpu().detach().numpy() for x in losses])\n",
    "with open('temp/losses_2.npy', 'wb') as f:\n",
    "    np.save(f, losses_ar)"
   ]
  },
  {
   "cell_type": "code",
   "execution_count": null,
   "id": "f6fd31a5",
   "metadata": {},
   "outputs": [],
   "source": [
    "device = torch.device('cuda' if torch.cuda.is_available() else 'cpu')\n",
    "print('Using device:', device)\n",
    "print()\n",
    "\n",
    "#Additional Info when using cuda\n",
    "if device.type == 'cuda':\n",
    "    print(torch.cuda.get_device_name(0))\n",
    "    print('Memory Usage:')\n",
    "    print('Allocated:', round(torch.cuda.memory_allocated(0)/1024**3,1), 'GB')\n",
    "    print('Cached:   ', round(torch.cuda.memory_reserved(0)/1024**3,1), 'GB')\n"
   ]
  },
  {
   "cell_type": "code",
   "execution_count": null,
   "id": "b5c1d582",
   "metadata": {},
   "outputs": [],
   "source": [
    "model_ft = models.resnet18(pretrained=True)"
   ]
  },
  {
   "cell_type": "code",
   "execution_count": 42,
   "id": "1490189f",
   "metadata": {},
   "outputs": [],
   "source": [
    "losses_ar = np.asarray([x.cpu().detach().numpy() for x in losses])"
   ]
  },
  {
   "cell_type": "code",
   "execution_count": 43,
   "id": "e015fcdd",
   "metadata": {},
   "outputs": [
    {
     "data": {
      "image/png": "[encoded data removed]",
      "text/plain": [
       "<Figure size 432x288 with 1 Axes>"
      ]
     },
     "metadata": {
      "needs_background": "light"
     },
     "output_type": "display_data"
    }
   ],
   "source": [
    "plt.plot(losses_ar)\n",
    "plt.show()"
   ]
  },
  {
   "cell_type": "code",
   "execution_count": 16,
   "id": "9a06e908",
   "metadata": {},
   "outputs": [],
   "source": [
    "def train(model, dataloaders,criterion,optimizer,scheduler,num_epochs=10):\n",
    "    since = time.time()\n",
    "\n",
    "    best_model_wts = copy.deepcopy(model.state_dict())\n",
    "    best_acc = 0.0\n",
    "    losses = []\n",
    "    for epoch in range(num_epochs):\n",
    "        print(f'Epoch {epoch}/{num_epochs - 1}')\n",
    "        print('-' * 10)\n",
    "\n",
    "        # Each epoch has a training and validation phase\n",
    "        for phase in ['train', 'val']:\n",
    "            if phase == 'train':\n",
    "                model.train()  # Set model to training mode\n",
    "            else:\n",
    "                model.eval()   # Set model to evaluate mode\n",
    "\n",
    "            running_loss = 0.0\n",
    "            running_corrects = 0\n",
    "\n",
    "            # Iterate over data.\n",
    "            for inputs, labels in dataloaders[phase]:\n",
    "                inputs = inputs.to(device)\n",
    "                labels = labels.to(device)\n",
    "\n",
    "                # zero the parameter gradients\n",
    "                optimizer.zero_grad()\n",
    "\n",
    "                # forward\n",
    "                # track history if only in train\n",
    "                with torch.set_grad_enabled(phase == 'train'):\n",
    "                    outputs = model(inputs)\n",
    "                    _, preds = torch.max(outputs, 1)\n",
    "                    loss = criterion(outputs, labels)\n",
    "                    losses.append(loss)\n",
    "                    # backward + optimize only if in training phase\n",
    "                    if phase == 'train':\n",
    "                        loss.backward()\n",
    "                        optimizer.step()\n",
    "\n",
    "                # statistics\n",
    "                running_loss += loss.item() * inputs.size(0)\n",
    "                running_corrects += torch.sum(preds == labels.data)\n",
    "            if phase == 'train':\n",
    "                pass\n",
    "    #             scheduler.step()\n",
    "\n",
    "            epoch_loss = running_loss / dataset_sizes[phase]\n",
    "            epoch_acc = running_corrects.double() / dataset_sizes[phase]\n",
    "\n",
    "            print(f'{phase} Loss: {epoch_loss:.4f} Acc: {epoch_acc:.4f}')\n",
    "\n",
    "            # deep copy the model\n",
    "            if phase == 'val' and epoch_acc > best_acc:\n",
    "                best_acc = epoch_acc\n",
    "                best_model_wts = copy.deepcopy(model.state_dict())\n",
    "\n",
    "        print()\n",
    "\n",
    "    time_elapsed = time.time() - since\n",
    "    print(f'Training complete in {time_elapsed // 60:.0f}m {time_elapsed % 60:.0f}s')\n",
    "    print(f'Best val Acc: {best_acc:4f}')\n",
    "\n",
    "    # load best model weights\n",
    "    model.load_state_dict(best_model_wts)\n",
    "    losses_ar = np.asarray([x.cpu().detach().numpy() for x in losses])\n",
    "    return model,losses_ar"
   ]
  },
  {
   "cell_type": "code",
   "execution_count": 17,
   "id": "82a44eaa",
   "metadata": {},
   "outputs": [],
   "source": [
    "class CNN(nn.Module):\n",
    "    def __init__(self):\n",
    "        super(CNN, self).__init__()\n",
    "        self.conv2d = nn.Conv2d(1, 64*5, kernel_size=(7, 7), stride=(2, 2), padding=(3, 3), bias=False)\n",
    "#         self.p4convz2 = P4ConvZ2(in_channels=1, out_channels=64, kernel_size=7, stride=2, padding=3)\n",
    "        self.linear = nn.Linear(128, 10)\n",
    "        self.linear_relu_stack = nn.Sequential(\n",
    "            nn.Linear(14*14*320, 1024),\n",
    "            nn.ReLU(),\n",
    "            nn.Linear(1024, 512),\n",
    "            nn.ReLU(),\n",
    "            nn.Linear(512, 10),\n",
    "        )\n",
    "\n",
    "    def forward(self, x):\n",
    "        x = self.conv2d(x)\n",
    "#         x2 = self.p4convz2(x)\n",
    "#         x2 = x2.view(x2.shape[0],x2.shape[1]*x2.shape[2], x2.shape[3],x2.shape[4])\n",
    "#         print(x2.shape)\n",
    "#         print(x1.shape)\n",
    "#         x = torch.cat((x1,x2),1)\n",
    "#         print(x.shape)\n",
    "        x = torch.flatten(x,1)\n",
    "#         print(x.shape)\n",
    "        logits = self.linear_relu_stack(x)\n",
    "        return logits"
   ]
  },
  {
   "cell_type": "code",
   "execution_count": 18,
   "id": "08678255",
   "metadata": {},
   "outputs": [
    {
     "name": "stdout",
     "output_type": "stream",
     "text": [
      "Epoch 0/3\n",
      "----------\n",
      "train Loss: 2.3044 Acc: 0.0977\n",
      "val Loss: 2.3045 Acc: 0.0957\n",
      "\n",
      "Epoch 1/3\n",
      "----------\n",
      "train Loss: 2.3044 Acc: 0.0977\n",
      "val Loss: 2.3045 Acc: 0.0957\n",
      "\n",
      "Epoch 2/3\n",
      "----------\n",
      "train Loss: 2.3044 Acc: 0.0977\n",
      "val Loss: 2.3045 Acc: 0.0957\n",
      "\n",
      "Epoch 3/3\n",
      "----------\n",
      "train Loss: 2.3044 Acc: 0.0977\n",
      "val Loss: 2.3045 Acc: 0.0957\n",
      "\n",
      "Training complete in 6m 20s\n",
      "Best val Acc: 0.095700\n"
     ]
    }
   ],
   "source": [
    "model_cnn = CNN().to(device)\n",
    "\n",
    "criterion = nn.CrossEntropyLoss()\n",
    "# Observe that all parameters are being optimized\n",
    "optimizer_ft = optim.SGD(model.parameters(), lr=0.001, momentum=0.9)\n",
    "\n",
    "# Decay LR by a factor of 0.1 every 7 epochs\n",
    "exp_lr_scheduler = lr_scheduler.StepLR(optimizer_ft, step_size=7, gamma=0.1)\n",
    "\n",
    "model_cnn, losses_2 = train(model_cnn, dataloaders,criterion,optimizer_ft,exp_lr_scheduler,num_epochs=4)"
   ]
  },
  {
   "cell_type": "code",
   "execution_count": 19,
   "id": "4cb8815d",
   "metadata": {},
   "outputs": [
    {
     "data": {
      "image/png": "[encoded data removed]",
      "text/plain": [
       "<Figure size 432x288 with 1 Axes>"
      ]
     },
     "metadata": {
      "needs_background": "light"
     },
     "output_type": "display_data"
    }
   ],
   "source": [
    "plt.plot(losses_2)\n",
    "plt.show()"
   ]
  },
  {
   "cell_type": "code",
   "execution_count": 20,
   "id": "28efcb52",
   "metadata": {},
   "outputs": [
    {
     "name": "stdout",
     "output_type": "stream",
     "text": [
      "torch.Size([64, 1, 7, 7])\n",
      "torch.Size([64, 1, 1, 7, 7])\n",
      "torch.Size([64])\n",
      "torch.Size([10, 128])\n",
      "torch.Size([10])\n",
      "torch.Size([1024, 62720])\n",
      "torch.Size([1024])\n",
      "torch.Size([512, 1024])\n",
      "torch.Size([512])\n",
      "torch.Size([10, 512])\n",
      "torch.Size([10])\n"
     ]
    }
   ],
   "source": [
    "for parameter in model.parameters():\n",
    "    print(parameter.shape)"
   ]
  },
  {
   "cell_type": "code",
   "execution_count": 21,
   "id": "756ec8bf",
   "metadata": {},
   "outputs": [
    {
     "name": "stdout",
     "output_type": "stream",
     "text": [
      "torch.Size([320, 1, 7, 7])\n",
      "torch.Size([10, 128])\n",
      "torch.Size([10])\n",
      "torch.Size([1024, 62720])\n",
      "torch.Size([1024])\n",
      "torch.Size([512, 1024])\n",
      "torch.Size([512])\n",
      "torch.Size([10, 512])\n",
      "torch.Size([10])\n"
     ]
    }
   ],
   "source": [
    "for parameter in model_cnn.parameters():\n",
    "    print(parameter.shape)"
   ]
  },
  {
   "cell_type": "code",
   "execution_count": 22,
   "id": "ad340f0a",
   "metadata": {},
   "outputs": [
    {
     "name": "stdout",
     "output_type": "stream",
     "text": [
      "WARNING:tensorflow:From c:\\users\\ali\\appdata\\local\\programs\\python\\python39\\lib\\site-packages\\tensorflow\\python\\compat\\v2_compat.py:107: disable_resource_variables (from tensorflow.python.ops.variable_scope) is deprecated and will be removed in a future version.\n",
      "Instructions for updating:\n",
      "non-resource variables are not supported in the long term\n"
     ]
    }
   ],
   "source": [
    "from mftma.manifold_analysis_correlation import manifold_analysis_corr\n",
    "\n",
    "X = [np.random.randn(5000, 50) for i in range(100)] # Replace this with data to analyze\n",
    "kappa = 0\n",
    "n_t = 200\n",
    "\n",
    "capacity_all, radius_all, dimension_all, center_correlation, K = manifold_analysis_corr(X, kappa, n_t)\n",
    "\n",
    "avg_capacity = 1/np.mean(1/capacity_all)\n",
    "avg_radius = np.mean(radius_all)\n",
    "avg_dimension = np.mean(dimension_all)\n",
    "\n"
   ]
  },
  {
   "cell_type": "code",
   "execution_count": 43,
   "id": "840e45a9",
   "metadata": {},
   "outputs": [],
   "source": [
    "model_cnn = model_cnn.eval()\n",
    "\n",
    "sampled_classes = 10\n",
    "examples_per_class = 100\n",
    "\n",
    "datas = make_manifold_data(train_ds, sampled_classes, examples_per_class, seed=0)\n",
    "datas = [d.to(device) for d in data]"
   ]
  },
  {
   "cell_type": "code",
   "execution_count": 41,
   "id": "6224587a",
   "metadata": {},
   "outputs": [
    {
     "name": "stdout",
     "output_type": "stream",
     "text": [
      " NeuralNetwork(\n",
      "  (conv2d): Conv2d(1, 64, kernel_size=(7, 7), stride=(2, 2), padding=(3, 3), bias=False)\n",
      "  (p4convz2): P4ConvZ2()\n",
      "  (linear): Linear(in_features=128, out_features=10, bias=True)\n",
      "  (linear_relu_stack): Sequential(\n",
      "    (0): Linear(in_features=62720, out_features=1024, bias=True)\n",
      "    (1): ReLU()\n",
      "    (2): Linear(in_features=1024, out_features=512, bias=True)\n",
      "    (3): ReLU()\n",
      "    (4): Linear(in_features=512, out_features=10, bias=True)\n",
      "  )\n",
      ")\n",
      "conv2d Conv2d(1, 64, kernel_size=(7, 7), stride=(2, 2), padding=(3, 3), bias=False)\n",
      "p4convz2 P4ConvZ2()\n",
      "linear Linear(in_features=128, out_features=10, bias=True)\n",
      "linear_relu_stack Sequential(\n",
      "  (0): Linear(in_features=62720, out_features=1024, bias=True)\n",
      "  (1): ReLU()\n",
      "  (2): Linear(in_features=1024, out_features=512, bias=True)\n",
      "  (3): ReLU()\n",
      "  (4): Linear(in_features=512, out_features=10, bias=True)\n",
      ")\n",
      "linear_relu_stack.0 Linear(in_features=62720, out_features=1024, bias=True)\n",
      "linear_relu_stack.1 ReLU()\n",
      "linear_relu_stack.2 Linear(in_features=1024, out_features=512, bias=True)\n",
      "linear_relu_stack.3 ReLU()\n",
      "linear_relu_stack.4 Linear(in_features=512, out_features=10, bias=True)\n"
     ]
    }
   ],
   "source": [
    "for name, layer in model.named_modules():\n",
    "    print(name, layer)"
   ]
  },
  {
   "cell_type": "code",
   "execution_count": 45,
   "id": "9110c535",
   "metadata": {},
   "outputs": [
    {
     "data": {
      "text/plain": [
       "['layer_0_Input',\n",
       " 'layer_1_Conv2d',\n",
       " 'layer_3_Linear',\n",
       " 'layer_5_Linear',\n",
       " 'layer_7_Linear']"
      ]
     },
     "execution_count": 45,
     "metadata": {},
     "output_type": "execute_result"
    }
   ],
   "source": [
    "activations = extractor(model_cnn, datas, layer_types=['Conv2d', 'Linear','P4ConvZ2'])\n",
    "list(activations.keys())\n",
    "\n"
   ]
  },
  {
   "cell_type": "code",
   "execution_count": 34,
   "id": "5a3a3305",
   "metadata": {},
   "outputs": [
    {
     "name": "stdout",
     "output_type": "stream",
     "text": [
      "Projecting layer_1_Conv2d\n"
     ]
    }
   ],
   "source": [
    "for layer, data, in activations.items():\n",
    "    X = [d.reshape(d.shape[0], -1).T for d in data]\n",
    "    # Get the number of features in the flattened data\n",
    "    N = X[0].shape[0]\n",
    "    # If N is greater than 5000, do the random projection to 5000 features\n",
    "    if N > 5000:\n",
    "        print(\"Projecting {}\".format(layer))\n",
    "        M = np.random.randn(5000, N)\n",
    "        M /= np.sqrt(np.sum(M*M, axis=1, keepdims=True))\n",
    "        X = [np.matmul(M, d) for d in X]\n",
    "    activations[layer] = X"
   ]
  },
  {
   "cell_type": "code",
   "execution_count": 35,
   "id": "8141c70b",
   "metadata": {},
   "outputs": [
    {
     "name": "stdout",
     "output_type": "stream",
     "text": [
      "layer_0_Input capacity: 0.104934, radius 0.963711, dimension 18.989687, correlation 0.431222\n",
      "layer_1_Conv2d capacity: 0.082099, radius 0.998654, dimension 22.507182, correlation 0.422936\n",
      "layer_3_Linear capacity: 0.103322, radius 0.957381, dimension 19.320024, correlation 0.423591\n",
      "layer_5_Linear capacity: 0.055898, radius 1.424833, dimension 26.685652, correlation 0.427329\n",
      "layer_7_Linear capacity: 0.198392, radius 28418.985901, dimension 5.477545, correlation 0.421630\n"
     ]
    }
   ],
   "source": [
    "\n",
    "\n",
    "capacities = []\n",
    "radii = []\n",
    "dimensions = []\n",
    "correlations = []\n",
    "\n",
    "for k, X, in activations.items():\n",
    "    # Analyze each layer's activations\n",
    "    a, r, d, r0, K = manifold_analysis_corr(X, 0, 300, n_reps=1)\n",
    "    \n",
    "    # Compute the mean values\n",
    "    a = 1/np.mean(1/a)\n",
    "    r = np.mean(r)\n",
    "    d = np.mean(d)\n",
    "    print(\"{} capacity: {:4f}, radius {:4f}, dimension {:4f}, correlation {:4f}\".format(k, a, r, d, r0))\n",
    "    \n",
    "    # Store for later\n",
    "    capacities.append(a)\n",
    "    radii.append(r)\n",
    "    dimensions.append(d)\n",
    "    correlations.append(r0)\n",
    "\n"
   ]
  },
  {
   "cell_type": "code",
   "execution_count": 36,
   "id": "d35a7954",
   "metadata": {},
   "outputs": [
    {
     "data": {
      "image/png": "[encoded data removed]",
      "text/plain": [
       "<Figure size 1296x288 with 4 Axes>"
      ]
     },
     "metadata": {
      "needs_background": "light"
     },
     "output_type": "display_data"
    }
   ],
   "source": [
    "fig, axes = plt.subplots(1, 4, figsize=(18, 4))\n",
    "\n",
    "axes[0].plot(capacities, linewidth=5)\n",
    "axes[1].plot(radii, linewidth=5)\n",
    "axes[2].plot(dimensions, linewidth=5)\n",
    "axes[3].plot(correlations, linewidth=5)\n",
    "\n",
    "axes[0].set_ylabel(r'$\\alpha_M$', fontsize=18)\n",
    "axes[1].set_ylabel(r'$R_M$', fontsize=18)\n",
    "axes[2].set_ylabel(r'$D_M$', fontsize=18)\n",
    "axes[3].set_ylabel(r'$\\rho_{center}$', fontsize=18)\n",
    "\n",
    "names = list(activations.keys())\n",
    "names = [n.split('_')[1] + ' ' + n.split('_')[2] for n in names]\n",
    "for ax in axes:\n",
    "    ax.set_xticks([i for i, _ in enumerate(names)])\n",
    "    ax.set_xticklabels(names, rotation=90, fontsize=16)\n",
    "    ax.tick_params(axis='both', which='major', labelsize=14)\n",
    "\n",
    "plt.tight_layout()\n",
    "plt.show()"
   ]
  },
  {
   "cell_type": "code",
   "execution_count": 46,
   "id": "837cbb80",
   "metadata": {},
   "outputs": [
    {
     "name": "stdout",
     "output_type": "stream",
     "text": [
      "Projecting layer_1_Conv2d\n",
      "Projecting layer_2_P4ConvZ2\n",
      "layer_0_Input capacity: 0.104934, radius 0.963711, dimension 18.989687, correlation 0.431222\n",
      "layer_1_Conv2d capacity: 0.034178, radius 5.560515, dimension 37.889648, correlation 0.474158\n",
      "layer_2_P4ConvZ2 capacity: 0.035506, radius 6.183361, dimension 35.480839, correlation 0.487845\n",
      "layer_4_Linear capacity: 0.063783, radius 1.696841, dimension 19.379703, correlation 0.525228\n",
      "layer_6_Linear capacity: 0.073907, radius 2.104890, dimension 15.433720, correlation 0.562791\n",
      "layer_8_Linear capacity: 0.330972, radius 5.688531, dimension 4.035815, correlation 0.655676\n"
     ]
    }
   ],
   "source": [
    "activations = extractor(model, datas, layer_types=['Conv2d', 'Linear','P4ConvZ2'])\n",
    "list(activations.keys())\n",
    "\n",
    "for layer, data, in activations.items():\n",
    "    X = [d.reshape(d.shape[0], -1).T for d in data]\n",
    "    # Get the number of features in the flattened data\n",
    "    N = X[0].shape[0]\n",
    "    # If N is greater than 5000, do the random projection to 5000 features\n",
    "    if N > 5000:\n",
    "        print(\"Projecting {}\".format(layer))\n",
    "        M = np.random.randn(5000, N)\n",
    "        M /= np.sqrt(np.sum(M*M, axis=1, keepdims=True))\n",
    "        X = [np.matmul(M, d) for d in X]\n",
    "    activations[layer] = X\n",
    "    \n",
    "capacities = []\n",
    "radii = []\n",
    "dimensions = []\n",
    "correlations = []\n",
    "\n",
    "for k, X, in activations.items():\n",
    "    # Analyze each layer's activations\n",
    "    a, r, d, r0, K = manifold_analysis_corr(X, 0, 300, n_reps=1)\n",
    "    \n",
    "    # Compute the mean values\n",
    "    a = 1/np.mean(1/a)\n",
    "    r = np.mean(r)\n",
    "    d = np.mean(d)\n",
    "    print(\"{} capacity: {:4f}, radius {:4f}, dimension {:4f}, correlation {:4f}\".format(k, a, r, d, r0))\n",
    "    \n",
    "    # Store for later\n",
    "    capacities.append(a)\n",
    "    radii.append(r)\n",
    "    dimensions.append(d)\n",
    "    correlations.append(r0)\n",
    "    \n",
    "    \n"
   ]
  },
  {
   "cell_type": "code",
   "execution_count": 47,
   "id": "a2526a23",
   "metadata": {},
   "outputs": [
    {
     "data": {
      "image/png": "[encoded data removed]",
      "text/plain": [
       "<Figure size 1296x288 with 4 Axes>"
      ]
     },
     "metadata": {
      "needs_background": "light"
     },
     "output_type": "display_data"
    }
   ],
   "source": [
    "fig, axes = plt.subplots(1, 4, figsize=(18, 4))\n",
    "\n",
    "axes[0].plot(capacities, linewidth=5)\n",
    "axes[1].plot(radii, linewidth=5)\n",
    "axes[2].plot(dimensions, linewidth=5)\n",
    "axes[3].plot(correlations, linewidth=5)\n",
    "\n",
    "axes[0].set_ylabel(r'$\\alpha_M$', fontsize=18)\n",
    "axes[1].set_ylabel(r'$R_M$', fontsize=18)\n",
    "axes[2].set_ylabel(r'$D_M$', fontsize=18)\n",
    "axes[3].set_ylabel(r'$\\rho_{center}$', fontsize=18)\n",
    "\n",
    "names = list(activations.keys())\n",
    "names = [n.split('_')[1] + ' ' + n.split('_')[2] for n in names]\n",
    "for ax in axes:\n",
    "    ax.set_xticks([i for i, _ in enumerate(names)])\n",
    "    ax.set_xticklabels(names, rotation=90, fontsize=16)\n",
    "    ax.tick_params(axis='both', which='major', labelsize=14)\n",
    "\n",
    "plt.tight_layout()\n",
    "plt.show()"
   ]
  },
  {
   "cell_type": "code",
   "execution_count": null,
   "id": "16f93da9",
   "metadata": {},
   "outputs": [],
   "source": [
    "print(torch.cuda.current_device() )\n",
    "print(torch.cuda.get_device_name(0))\n",
    "torch.cuda.empty_cache()\n",
    "print(torch.cuda.memory_summary())\n",
    "gpu_n=0\n",
    "t = torch.cuda.get_device_properties(gpu_n).total_memory\n",
    "r = torch.cuda.memory_reserved(gpu_n)\n",
    "a = torch.cuda.memory_allocated(gpu_n)\n",
    "f = r-a  # free inside reserved\n",
    "print(f'Reserved {r/2**20}')\n",
    "print(f'Allocated {a/2**20}')\n",
    "print(f'Free {f/2**20}')"
   ]
  }
 ],
 "metadata": {
  "kernelspec": {
   "display_name": "Python 3",
   "language": "python",
   "name": "python3"
  },
  "language_info": {
   "codemirror_mode": {
    "name": "ipython",
    "version": 3
   },
   "file_extension": ".py",
   "mimetype": "text/x-python",
   "name": "python",
   "nbconvert_exporter": "python",
   "pygments_lexer": "ipython3",
   "version": "3.6.9"
  }
 },
 "nbformat": 4,
 "nbformat_minor": 5
}
